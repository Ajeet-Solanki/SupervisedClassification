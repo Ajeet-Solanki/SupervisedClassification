{
 "cells": [
  {
   "cell_type": "code",
   "execution_count": 3,
   "metadata": {},
   "outputs": [],
   "source": [
    "import numpy as np\n",
    "import pandas as pd\n",
    "import matplotlib.pyplot as plt"
   ]
  },
  {
   "attachments": {},
   "cell_type": "markdown",
   "metadata": {},
   "source": [
    "Convert categorical variables to numeric representations and Handle missing values in 'Embarked' column"
   ]
  },
  {
   "cell_type": "code",
   "execution_count": 4,
   "metadata": {},
   "outputs": [],
   "source": [
    "def convert_categorical_to_numeric(data):\n",
    "    data['Sex'] = data['Sex'].map({'female': 0, 'male': 1}).astype(int)\n",
    "    data['Embarked'] = data['Embarked'].fillna('S')\n",
    "    data['Embarked'] = data['Embarked'].map({'S': 0, 'C': 1, 'Q': 2}).astype(int)\n",
    "    \n",
    "    return data"
   ]
  },
  {
   "attachments": {},
   "cell_type": "markdown",
   "metadata": {},
   "source": [
    "Calculate class probabilities and feature probabilities"
   ]
  },
  {
   "cell_type": "code",
   "execution_count": 5,
   "metadata": {},
   "outputs": [],
   "source": [
    "def naive_bayes(x_train, y_train):\n",
    "    classes = np.unique(y_train)\n",
    "    class_probs = {}\n",
    "    for class_label in classes:\n",
    "        class_probs[class_label] = np.sum(y_train == class_label) / len(y_train)\n",
    "\n",
    "    feature_probs = {}\n",
    "    for feature_idx in range(x_train.shape[1]):\n",
    "        feature_values = np.unique(x_train[:, feature_idx])\n",
    "        feature_probs[feature_idx] = {}\n",
    "        for class_label in classes:\n",
    "            feature_probs[feature_idx][class_label] = {}\n",
    "            for feature_value in feature_values:\n",
    "                count = np.sum((x_train[:, feature_idx] == feature_value) & (y_train == class_label))\n",
    "                prob = (count + 1) / (np.sum(y_train == class_label) + len(feature_values))\n",
    "                feature_probs[feature_idx][class_label][feature_value] = prob\n",
    "    \n",
    "    return class_probs, feature_probs\n",
    "\n",
    "def knn(x_train, y_train, x_test, k):\n",
    "    predictions = []\n",
    "    for i in range(x_test.shape[0]):\n",
    "        distances = np.sqrt(np.sum((x_train - x_test[i])**2, axis=1))\n",
    "        sorted_indices = np.argsort(distances)\n",
    "        k_nearest_labels = y_train[sorted_indices[:k]]\n",
    "        unique_labels, counts = np.unique(k_nearest_labels, return_counts=True)\n",
    "        predicted_label = unique_labels[np.argmax(counts)]\n",
    "        predictions.append(predicted_label)\n",
    "    \n",
    "    return np.array(predictions)"
   ]
  },
  {
   "attachments": {},
   "cell_type": "markdown",
   "metadata": {},
   "source": [
    "Load the training and testing datasets"
   ]
  },
  {
   "cell_type": "code",
   "execution_count": 6,
   "metadata": {},
   "outputs": [],
   "source": [
    "train_data = pd.read_csv('train.csv')\n",
    "test_data = pd.read_csv('test.csv')\n"
   ]
  },
  {
   "attachments": {},
   "cell_type": "markdown",
   "metadata": {},
   "source": [
    "Preprocess the data (remove unnecessary columns, handle missing values, etc.)"
   ]
  },
  {
   "cell_type": "code",
   "execution_count": 7,
   "metadata": {},
   "outputs": [],
   "source": [
    "train_data = train_data.drop(['PassengerId', 'Name', 'Ticket', 'Cabin'], axis=1)\n",
    "test_data = test_data.drop(['PassengerId', 'Name', 'Ticket', 'Cabin'], axis=1)"
   ]
  },
  {
   "attachments": {},
   "cell_type": "markdown",
   "metadata": {},
   "source": [
    "Convert categorical variables to numeric representations"
   ]
  },
  {
   "cell_type": "code",
   "execution_count": 8,
   "metadata": {},
   "outputs": [],
   "source": [
    "train_data = convert_categorical_to_numeric(train_data)\n",
    "test_data = convert_categorical_to_numeric(test_data)"
   ]
  },
  {
   "attachments": {},
   "cell_type": "markdown",
   "metadata": {},
   "source": [
    "Separate features and target variable"
   ]
  },
  {
   "cell_type": "code",
   "execution_count": 9,
   "metadata": {},
   "outputs": [],
   "source": [
    "x_train = train_data.drop('Survived', axis=1).values\n",
    "y_train = train_data['Survived'].values\n",
    "x_test = test_data.values"
   ]
  },
  {
   "attachments": {},
   "cell_type": "markdown",
   "metadata": {},
   "source": [
    "Apply any necessary preprocessing steps (e.g., imputation, normalization) to x_train, y_train, and x_test\n",
    "Run Naive Bayes algorithm"
   ]
  },
  {
   "cell_type": "code",
   "execution_count": 10,
   "metadata": {},
   "outputs": [],
   "source": [
    "class_probs, feature_probs = naive_bayes(x_train, y_train)"
   ]
  },
  {
   "attachments": {},
   "cell_type": "markdown",
   "metadata": {},
   "source": [
    "Run KNN algorithm and Choose the value of k for KNN"
   ]
  },
  {
   "cell_type": "code",
   "execution_count": 11,
   "metadata": {},
   "outputs": [],
   "source": [
    "k = 5\n",
    "predictions = knn(x_train, y_train, x_test, k)"
   ]
  },
  {
   "attachments": {},
   "cell_type": "markdown",
   "metadata": {},
   "source": [
    "Visualize the predictions"
   ]
  },
  {
   "cell_type": "code",
   "execution_count": 12,
   "metadata": {},
   "outputs": [
    {
     "data": {
      "image/png": "[encoded data removed]",
      "text/plain": [
       "<Figure size 640x480 with 1 Axes>"
      ]
     },
     "metadata": {},
     "output_type": "display_data"
    }
   ],
   "source": [
    "plt.hist(predictions)\n",
    "plt.xlabel('Survived')\n",
    "plt.ylabel('Count')\n",
    "plt.title('KNN Predictions')\n",
    "plt.show()"
   ]
  }
 ],
 "metadata": {
  "kernelspec": {
   "display_name": "base",
   "language": "python",
   "name": "python3"
  },
  "language_info": {
   "codemirror_mode": {
    "name": "ipython",
    "version": 3
   },
   "file_extension": ".py",
   "mimetype": "text/x-python",
   "name": "python",
   "nbconvert_exporter": "python",
   "pygments_lexer": "ipython3",
   "version": "3.9.16"
  },
  "orig_nbformat": 4
 },
 "nbformat": 4,
 "nbformat_minor": 2
}
